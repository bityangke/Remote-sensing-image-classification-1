{
  "nbformat": 4,
  "nbformat_minor": 0,
  "metadata": {
    "colab": {
      "name": "RS-Image-Classification.ipynb",
      "provenance": [],
      "collapsed_sections": [],
      "include_colab_link": true
    },
    "kernelspec": {
      "name": "python3",
      "display_name": "Python 3"
    },
    "accelerator": "GPU"
  },
  "cells": [
    {
      "cell_type": "markdown",
      "metadata": {
        "id": "view-in-github",
        "colab_type": "text"
      },
      "source": [
        "<a href=\"https://colab.research.google.com/github/v1an1/Remote-sensing-image-classification/blob/master/RS_Image_Classification.ipynb\" target=\"_parent\"><img src=\"https://colab.research.google.com/assets/colab-badge.svg\" alt=\"Open In Colab\"/></a>"
      ]
    },
    {
      "cell_type": "markdown",
      "metadata": {
        "id": "uSgzx5ocxYEg",
        "colab_type": "text"
      },
      "source": [
        "Mount your drive containing 'src.zip'"
      ]
    },
    {
      "cell_type": "code",
      "metadata": {
        "id": "0gW0fy3ava-k",
        "colab_type": "code",
        "colab": {}
      },
      "source": [
        "from google.colab import drive\n",
        "drive.mount('/content/drive')"
      ],
      "execution_count": 0,
      "outputs": []
    },
    {
      "cell_type": "markdown",
      "metadata": {
        "id": "ND0fAC2Gx0Zv",
        "colab_type": "text"
      },
      "source": [
        "Unzip the folder"
      ]
    },
    {
      "cell_type": "code",
      "metadata": {
        "id": "8tePfCDjvjjg",
        "colab_type": "code",
        "colab": {}
      },
      "source": [
        "!unzip '/content/drive/My Drive/src.zip'"
      ],
      "execution_count": 0,
      "outputs": []
    },
    {
      "cell_type": "markdown",
      "metadata": {
        "id": "VUu91uD8x2mG",
        "colab_type": "text"
      },
      "source": [
        "Copy the model file in current directory for usage"
      ]
    },
    {
      "cell_type": "code",
      "metadata": {
        "id": "2pyLW16JvY_6",
        "colab_type": "code",
        "colab": {}
      },
      "source": [
        "!cp \"/content/src/utils_jnb.py\" ."
      ],
      "execution_count": 0,
      "outputs": []
    },
    {
      "cell_type": "code",
      "metadata": {
        "id": "hZu4HqOEt5aP",
        "colab_type": "code",
        "outputId": "39d7103b-aeab-4545-d225-21113698f8ab",
        "colab": {
          "base_uri": "https://localhost:8080/",
          "height": 34
        }
      },
      "source": [
        "import torch \n",
        "import matplotlib.pylab as plt\n",
        "import numpy as np\n",
        "from torch.utils.data import Dataset, DataLoader, random_split\n",
        "from torchvision import transforms, models\n",
        "import torch.nn as nn\n",
        "import torch.optim as optim\n",
        "from torch.optim import lr_scheduler\n",
        "from torchsummary import summary\n",
        "import matplotlib.pyplot as plt\n",
        "from PIL import Image\n",
        "import pandas as pd\n",
        "import os\n",
        "import time\n",
        "from utils_jnb import *\n",
        "\n",
        "torch.manual_seed(0)"
      ],
      "execution_count": 2,
      "outputs": [
        {
          "output_type": "execute_result",
          "data": {
            "text/plain": [
              "<torch._C.Generator at 0x7fb30a6401d0>"
            ]
          },
          "metadata": {
            "tags": []
          },
          "execution_count": 2
        }
      ]
    },
    {
      "cell_type": "code",
      "metadata": {
        "id": "z1kqZz_v1T2y",
        "colab_type": "code",
        "outputId": "748f4701-56ea-47f5-f02f-a1e026beceb6",
        "colab": {
          "base_uri": "https://localhost:8080/",
          "height": 34
        }
      },
      "source": [
        "device = torch.device(\"cuda:0\" if torch.cuda.is_available() else \"cpu\")\n",
        "print(device)"
      ],
      "execution_count": 3,
      "outputs": [
        {
          "output_type": "stream",
          "text": [
            "cuda:0\n"
          ],
          "name": "stdout"
        }
      ]
    },
    {
      "cell_type": "code",
      "metadata": {
        "id": "uiVw_drJsMwn",
        "colab_type": "code",
        "colab": {}
      },
      "source": [
        "directory = \"/content/src\""
      ],
      "execution_count": 0,
      "outputs": []
    },
    {
      "cell_type": "code",
      "metadata": {
        "id": "-2sgdxa1sNbM",
        "colab_type": "code",
        "colab": {}
      },
      "source": [
        "num_classes = 3\n",
        "\n",
        "vgg19 = models.vgg19_bn(pretrained=True)\n",
        "# Freeze model parameters\n",
        "# Same for all\n",
        "for param in vgg19.parameters():\n",
        "    param.requires_grad = False\n",
        "\n",
        "vgg19.classifier = nn.Sequential(nn.Linear(25088, 4096),\n",
        "nn.ReLU(),\n",
        "nn.Dropout(0.4),\n",
        "nn.Linear(4096, 1024),\n",
        "nn.ReLU(),\n",
        "nn.Dropout(0.4),\n",
        "nn.Linear(1024, num_classes),\n",
        "nn.LogSoftmax(dim=1))"
      ],
      "execution_count": 0,
      "outputs": []
    },
    {
      "cell_type": "code",
      "metadata": {
        "id": "e2X4kzWXv3b9",
        "colab_type": "code",
        "colab": {}
      },
      "source": [
        "# Define Optimizer and Loss Function\n",
        "lossFunc = nn.CrossEntropyLoss()\n",
        "optimizer = optim.Adam(vgg19.parameters(), lr=1e-2)\n",
        "\n",
        "# Decay LR by a factor of 0.1 every 7 epochs\n",
        "expLrScheduler = lr_scheduler.StepLR(optimizer, step_size=6, gamma=0.1)\n",
        "\n",
        "vgg19.to(device)"
      ],
      "execution_count": 0,
      "outputs": []
    },
    {
      "cell_type": "code",
      "metadata": {
        "id": "K-Sg3anS0PTH",
        "colab_type": "code",
        "colab": {}
      },
      "source": [
        "summary(vgg19, input_size=(3, 224, 224), batch_size=32)"
      ],
      "execution_count": 0,
      "outputs": []
    },
    {
      "cell_type": "code",
      "metadata": {
        "id": "npNkQm7W0Pr5",
        "colab_type": "code",
        "colab": {}
      },
      "source": [
        "history = trainValid(vgg19, lossFunc, optimizer, epochs=25)"
      ],
      "execution_count": 0,
      "outputs": []
    },
    {
      "cell_type": "code",
      "metadata": {
        "id": "culacpOcgcUj",
        "colab_type": "code",
        "colab": {}
      },
      "source": [
        "plotCost(history)"
      ],
      "execution_count": 0,
      "outputs": []
    },
    {
      "cell_type": "markdown",
      "metadata": {
        "id": "lmqA9osy49ac",
        "colab_type": "text"
      },
      "source": [
        "Select the best model (i.e. the weights file saved on the max epoch) to test."
      ]
    },
    {
      "cell_type": "code",
      "metadata": {
        "id": "sEDTZ_VmkEK6",
        "colab_type": "code",
        "colab": {}
      },
      "source": [
        "saved_model = torch.load('src_model_1.pt')"
      ],
      "execution_count": 0,
      "outputs": []
    },
    {
      "cell_type": "code",
      "metadata": {
        "id": "39gAloATgHQl",
        "colab_type": "code",
        "colab": {}
      },
      "source": [
        "computeTestSetAccuracy(saved_model, lossFunc)"
      ],
      "execution_count": 0,
      "outputs": []
    }
  ]
}