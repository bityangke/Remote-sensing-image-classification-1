{
  "nbformat": 4,
  "nbformat_minor": 0,
  "metadata": {
    "colab": {
      "name": "GodMode.ipynb",
      "provenance": [],
      "collapsed_sections": [],
      "include_colab_link": true
    },
    "kernelspec": {
      "name": "python3",
      "display_name": "Python 3"
    },
    "accelerator": "GPU"
  },
  "cells": [
    {
      "cell_type": "markdown",
      "metadata": {
        "id": "view-in-github",
        "colab_type": "text"
      },
      "source": [
        "<a href=\"https://colab.research.google.com/github/v1an1/Remote-sensing-image-classification/blob/master/GodMode.ipynb\" target=\"_parent\"><img src=\"https://colab.research.google.com/assets/colab-badge.svg\" alt=\"Open In Colab\"/></a>"
      ]
    },
    {
      "cell_type": "markdown",
      "metadata": {
        "id": "uSgzx5ocxYEg",
        "colab_type": "text"
      },
      "source": [
        "Mount your drive containing 'src.zip'"
      ]
    },
    {
      "cell_type": "code",
      "metadata": {
        "id": "0gW0fy3ava-k",
        "colab_type": "code",
        "colab": {
          "base_uri": "https://localhost:8080/",
          "height": 122
        },
        "outputId": "54df4481-5638-4679-e18c-31d1c6bd84fe"
      },
      "source": [
        "from google.colab import drive\n",
        "drive.mount('/content/drive')"
      ],
      "execution_count": 1,
      "outputs": [
        {
          "output_type": "stream",
          "text": [
            "Go to this URL in a browser: https://accounts.google.com/o/oauth2/auth?client_id=947318989803-6bn6qk8qdgf4n4g3pfee6491hc0brc4i.apps.googleusercontent.com&redirect_uri=urn%3aietf%3awg%3aoauth%3a2.0%3aoob&response_type=code&scope=email%20https%3a%2f%2fwww.googleapis.com%2fauth%2fdocs.test%20https%3a%2f%2fwww.googleapis.com%2fauth%2fdrive%20https%3a%2f%2fwww.googleapis.com%2fauth%2fdrive.photos.readonly%20https%3a%2f%2fwww.googleapis.com%2fauth%2fpeopleapi.readonly\n",
            "\n",
            "Enter your authorization code:\n",
            "··········\n",
            "Mounted at /content/drive\n"
          ],
          "name": "stdout"
        }
      ]
    },
    {
      "cell_type": "markdown",
      "metadata": {
        "id": "ND0fAC2Gx0Zv",
        "colab_type": "text"
      },
      "source": [
        "Unzip the folder"
      ]
    },
    {
      "cell_type": "code",
      "metadata": {
        "id": "8tePfCDjvjjg",
        "colab_type": "code",
        "colab": {}
      },
      "source": [
        "!unzip '/content/drive/My Drive/src.zip'"
      ],
      "execution_count": 0,
      "outputs": []
    },
    {
      "cell_type": "markdown",
      "metadata": {
        "id": "VUu91uD8x2mG",
        "colab_type": "text"
      },
      "source": [
        "Copy the model file in current directory for usage"
      ]
    },
    {
      "cell_type": "code",
      "metadata": {
        "id": "2pyLW16JvY_6",
        "colab_type": "code",
        "colab": {}
      },
      "source": [
        "!cp \"/content/src/utils_jnb.py\" ."
      ],
      "execution_count": 0,
      "outputs": []
    },
    {
      "cell_type": "code",
      "metadata": {
        "id": "hZu4HqOEt5aP",
        "colab_type": "code",
        "outputId": "39d7103b-aeab-4545-d225-21113698f8ab",
        "colab": {
          "base_uri": "https://localhost:8080/",
          "height": 34
        }
      },
      "source": [
        "import torch \n",
        "import matplotlib.pylab as plt\n",
        "import numpy as np\n",
        "from torch.utils.data import Dataset, DataLoader, random_split\n",
        "from torchvision import transforms, models\n",
        "import torch.nn as nn\n",
        "import torch.optim as optim\n",
        "from torch.optim import lr_scheduler\n",
        "from torchsummary import summary\n",
        "import matplotlib.pyplot as plt\n",
        "from PIL import Image\n",
        "import pandas as pd\n",
        "import os\n",
        "import time\n",
        "from utils_jnb import *\n",
        "\n",
        "torch.manual_seed(0)"
      ],
      "execution_count": 2,
      "outputs": [
        {
          "output_type": "execute_result",
          "data": {
            "text/plain": [
              "<torch._C.Generator at 0x7fb30a6401d0>"
            ]
          },
          "metadata": {
            "tags": []
          },
          "execution_count": 2
        }
      ]
    },
    {
      "cell_type": "code",
      "metadata": {
        "id": "z1kqZz_v1T2y",
        "colab_type": "code",
        "outputId": "748f4701-56ea-47f5-f02f-a1e026beceb6",
        "colab": {
          "base_uri": "https://localhost:8080/",
          "height": 34
        }
      },
      "source": [
        "device = torch.device(\"cuda:0\" if torch.cuda.is_available() else \"cpu\")\n",
        "print(device)"
      ],
      "execution_count": 3,
      "outputs": [
        {
          "output_type": "stream",
          "text": [
            "cuda:0\n"
          ],
          "name": "stdout"
        }
      ]
    },
    {
      "cell_type": "code",
      "metadata": {
        "id": "uiVw_drJsMwn",
        "colab_type": "code",
        "colab": {}
      },
      "source": [
        "directory = \"/content/src\""
      ],
      "execution_count": 0,
      "outputs": []
    },
    {
      "cell_type": "code",
      "metadata": {
        "id": "-2sgdxa1sNbM",
        "colab_type": "code",
        "colab": {}
      },
      "source": [
        "num_classes = 3\n",
        "\n",
        "vgg19 = models.vgg19_bn(pretrained=True)\n",
        "# Freeze model parameters\n",
        "# Same for all\n",
        "for param in vgg19.parameters():\n",
        "    param.requires_grad = False\n",
        "\n",
        "vgg19.classifier = nn.Sequential(nn.Linear(25088, 4096),\n",
        "nn.ReLU(),\n",
        "nn.Dropout(0.4),\n",
        "nn.Linear(4096, 1024),\n",
        "nn.ReLU(),\n",
        "nn.Dropout(0.4),\n",
        "nn.Linear(1024, num_classes),\n",
        "nn.LogSoftmax(dim=1))"
      ],
      "execution_count": 0,
      "outputs": []
    },
    {
      "cell_type": "code",
      "metadata": {
        "id": "e2X4kzWXv3b9",
        "colab_type": "code",
        "colab": {}
      },
      "source": [
        "# Define Optimizer and Loss Function\n",
        "lossFunc = nn.CrossEntropyLoss()\n",
        "optimizer = optim.Adam(vgg19.parameters(), lr=1e-2)\n",
        "\n",
        "# Decay LR by a factor of 0.1 every 7 epochs\n",
        "expLrScheduler = lr_scheduler.StepLR(optimizer, step_size=6, gamma=0.1)\n",
        "\n",
        "vgg19.to(device)"
      ],
      "execution_count": 0,
      "outputs": []
    },
    {
      "cell_type": "code",
      "metadata": {
        "id": "K-Sg3anS0PTH",
        "colab_type": "code",
        "colab": {}
      },
      "source": [
        "summary(vgg19, input_size=(3, 224, 224), batch_size=32)"
      ],
      "execution_count": 0,
      "outputs": []
    },
    {
      "cell_type": "code",
      "metadata": {
        "id": "npNkQm7W0Pr5",
        "colab_type": "code",
        "colab": {
          "base_uri": "https://localhost:8080/",
          "height": 1000
        },
        "outputId": "6b37d19c-e5f7-46a4-d941-6205cde6bb1f"
      },
      "source": [
        "history = trainValid(vgg19, lossFunc, optimizer, epochs=2)"
      ],
      "execution_count": 8,
      "outputs": [
        {
          "output_type": "stream",
          "text": [
            "Epoch: 1/2\n",
            "Batch number: 000, Training: Loss: 1.1047, Accuracy: 0.2500\n",
            "Batch number: 001, Training: Loss: 707.6970, Accuracy: 0.3750\n",
            "Batch number: 002, Training: Loss: 358.7710, Accuracy: 0.3750\n",
            "Batch number: 003, Training: Loss: 299.7534, Accuracy: 0.3125\n",
            "Batch number: 004, Training: Loss: 38.7415, Accuracy: 0.6250\n",
            "Batch number: 005, Training: Loss: 57.8354, Accuracy: 0.6250\n",
            "Batch number: 006, Training: Loss: 28.4534, Accuracy: 0.6250\n",
            "Batch number: 007, Training: Loss: 51.6681, Accuracy: 0.2812\n",
            "Batch number: 008, Training: Loss: 6.0232, Accuracy: 0.8125\n",
            "Batch number: 009, Training: Loss: 6.4400, Accuracy: 0.5938\n",
            "Batch number: 010, Training: Loss: 3.1276, Accuracy: 0.5938\n",
            "Batch number: 011, Training: Loss: 8.1860, Accuracy: 0.6250\n",
            "Batch number: 012, Training: Loss: 5.8234, Accuracy: 0.6250\n",
            "Batch number: 013, Training: Loss: 3.7581, Accuracy: 0.6250\n",
            "Batch number: 014, Training: Loss: 7.5087, Accuracy: 0.5938\n",
            "Batch number: 015, Training: Loss: 2.1335, Accuracy: 0.7812\n",
            "Batch number: 016, Training: Loss: 6.0246, Accuracy: 0.7812\n",
            "Batch number: 017, Training: Loss: 10.3886, Accuracy: 0.5938\n",
            "Batch number: 018, Training: Loss: 1.3148, Accuracy: 0.8125\n",
            "Batch number: 019, Training: Loss: 0.7475, Accuracy: 0.8438\n",
            "Batch number: 020, Training: Loss: 3.6602, Accuracy: 0.6250\n",
            "Batch number: 021, Training: Loss: 1.2082, Accuracy: 0.8438\n",
            "Batch number: 022, Training: Loss: 2.8234, Accuracy: 0.7500\n",
            "Batch number: 023, Training: Loss: 1.2475, Accuracy: 0.8438\n",
            "Batch number: 024, Training: Loss: 1.0100, Accuracy: 0.8750\n",
            "Batch number: 025, Training: Loss: 0.7040, Accuracy: 0.8750\n",
            "Batch number: 026, Training: Loss: 2.2386, Accuracy: 0.8125\n",
            "Batch number: 027, Training: Loss: 3.8356, Accuracy: 0.7812\n",
            "Batch number: 028, Training: Loss: 0.7014, Accuracy: 0.8750\n",
            "Batch number: 029, Training: Loss: 0.2276, Accuracy: 0.9688\n",
            "Batch number: 030, Training: Loss: 0.9494, Accuracy: 0.8750\n",
            "Batch number: 031, Training: Loss: 3.2955, Accuracy: 0.6562\n",
            "Batch number: 032, Training: Loss: 0.4859, Accuracy: 0.9375\n",
            "Batch number: 033, Training: Loss: 0.5579, Accuracy: 0.8750\n",
            "Batch number: 034, Training: Loss: 1.7918, Accuracy: 0.8438\n",
            "Batch number: 035, Training: Loss: 2.7192, Accuracy: 0.8125\n",
            "Batch number: 036, Training: Loss: 0.2933, Accuracy: 0.9062\n",
            "Batch number: 037, Training: Loss: 0.7013, Accuracy: 0.8750\n",
            "Batch number: 038, Training: Loss: 0.2525, Accuracy: 0.9688\n",
            "Batch number: 039, Training: Loss: 0.5479, Accuracy: 0.8750\n",
            "Batch number: 040, Training: Loss: 0.4574, Accuracy: 0.9062\n",
            "Batch number: 041, Training: Loss: 0.3617, Accuracy: 0.9062\n",
            "Validation Batch number: 000, Validation: Loss: 0.0005, Accuracy: 1.0000\n",
            "Validation Batch number: 001, Validation: Loss: 0.0128, Accuracy: 1.0000\n",
            "Validation Batch number: 002, Validation: Loss: 0.0009, Accuracy: 1.0000\n",
            "Validation Batch number: 003, Validation: Loss: 0.0003, Accuracy: 1.0000\n",
            "Validation Batch number: 004, Validation: Loss: 0.3563, Accuracy: 0.7500\n",
            "Validation Batch number: 005, Validation: Loss: 0.0025, Accuracy: 1.0000\n",
            "Validation Batch number: 006, Validation: Loss: 0.0389, Accuracy: 1.0000\n",
            "Validation Batch number: 007, Validation: Loss: 0.0008, Accuracy: 1.0000\n",
            "Validation Batch number: 008, Validation: Loss: 0.0005, Accuracy: 1.0000\n",
            "Validation Batch number: 009, Validation: Loss: 1.0270, Accuracy: 0.7500\n",
            "Validation Batch number: 010, Validation: Loss: 0.0001, Accuracy: 1.0000\n",
            "Validation Batch number: 011, Validation: Loss: 0.0023, Accuracy: 1.0000\n",
            "Validation Batch number: 012, Validation: Loss: 0.6161, Accuracy: 0.7500\n",
            "Validation Batch number: 013, Validation: Loss: 0.0002, Accuracy: 1.0000\n",
            "Validation Batch number: 014, Validation: Loss: 0.9576, Accuracy: 0.7500\n",
            "Validation Batch number: 015, Validation: Loss: 0.0640, Accuracy: 1.0000\n",
            "Validation Batch number: 016, Validation: Loss: 1.0051, Accuracy: 0.7500\n",
            "Validation Batch number: 017, Validation: Loss: 0.0024, Accuracy: 1.0000\n",
            "Validation Batch number: 018, Validation: Loss: 0.0000, Accuracy: 1.0000\n",
            "Validation Batch number: 019, Validation: Loss: 0.6964, Accuracy: 0.7500\n",
            "Validation Batch number: 020, Validation: Loss: 0.0534, Accuracy: 1.0000\n",
            "Validation Batch number: 021, Validation: Loss: 0.0003, Accuracy: 1.0000\n",
            "Validation Batch number: 022, Validation: Loss: 0.0000, Accuracy: 1.0000\n",
            "Validation Batch number: 023, Validation: Loss: 0.0012, Accuracy: 1.0000\n",
            "Validation Batch number: 024, Validation: Loss: 0.0538, Accuracy: 1.0000\n",
            "Validation Batch number: 025, Validation: Loss: 0.0008, Accuracy: 1.0000\n",
            "Validation Batch number: 026, Validation: Loss: 0.0052, Accuracy: 1.0000\n",
            "Validation Batch number: 027, Validation: Loss: 0.3600, Accuracy: 0.7500\n",
            "Validation Batch number: 028, Validation: Loss: 0.0000, Accuracy: 1.0000\n",
            "Validation Batch number: 029, Validation: Loss: 0.6987, Accuracy: 0.7500\n",
            "Validation Batch number: 030, Validation: Loss: 0.0018, Accuracy: 1.0000\n",
            "Validation Batch number: 031, Validation: Loss: 0.4383, Accuracy: 0.7500\n",
            "Validation Batch number: 032, Validation: Loss: 0.9694, Accuracy: 0.7500\n",
            "Validation Batch number: 033, Validation: Loss: 0.0241, Accuracy: 1.0000\n",
            "Validation Batch number: 034, Validation: Loss: 0.0000, Accuracy: 1.0000\n",
            "Validation Batch number: 035, Validation: Loss: 0.0004, Accuracy: 1.0000\n",
            "Validation Batch number: 036, Validation: Loss: 1.3360, Accuracy: 0.7500\n",
            "Epoch : 000, Training: Loss : 38.7691, Accuracy: 72.1481%\n",
            "Validation : Loss : 0.2327, Accuracy: 91.3333%, Time: 18.7991s\n",
            "model for epoch 0 saved\n",
            "Best accuracy achieved so far : 0.9133 on epoch 0\n",
            "Epoch: 2/2\n",
            "Batch number: 000, Training: Loss: 21.5399, Accuracy: 0.7500\n",
            "Batch number: 001, Training: Loss: 2.7586, Accuracy: 0.8125\n",
            "Batch number: 002, Training: Loss: 0.3700, Accuracy: 0.8750\n",
            "Batch number: 003, Training: Loss: 0.2845, Accuracy: 0.9688\n",
            "Batch number: 004, Training: Loss: 0.0051, Accuracy: 1.0000\n",
            "Batch number: 005, Training: Loss: 0.9602, Accuracy: 0.7812\n",
            "Batch number: 006, Training: Loss: 1.2467, Accuracy: 0.8125\n",
            "Batch number: 007, Training: Loss: 0.0424, Accuracy: 0.9688\n",
            "Batch number: 008, Training: Loss: 0.1441, Accuracy: 0.9688\n",
            "Batch number: 009, Training: Loss: 0.6118, Accuracy: 0.8125\n",
            "Batch number: 010, Training: Loss: 1.0851, Accuracy: 0.8125\n",
            "Batch number: 011, Training: Loss: 0.4329, Accuracy: 0.9375\n",
            "Batch number: 012, Training: Loss: 1.0093, Accuracy: 0.9062\n",
            "Batch number: 013, Training: Loss: 0.6015, Accuracy: 0.8750\n",
            "Batch number: 014, Training: Loss: 0.2214, Accuracy: 0.8750\n",
            "Batch number: 015, Training: Loss: 0.4188, Accuracy: 0.8438\n",
            "Batch number: 016, Training: Loss: 0.0624, Accuracy: 0.9688\n",
            "Batch number: 017, Training: Loss: 0.1818, Accuracy: 0.8750\n",
            "Batch number: 018, Training: Loss: 0.2628, Accuracy: 0.8750\n",
            "Batch number: 019, Training: Loss: 0.1544, Accuracy: 0.8750\n",
            "Batch number: 020, Training: Loss: 0.3260, Accuracy: 0.8438\n",
            "Batch number: 021, Training: Loss: 0.2332, Accuracy: 0.9062\n",
            "Batch number: 022, Training: Loss: 0.2813, Accuracy: 0.8750\n",
            "Batch number: 023, Training: Loss: 0.1729, Accuracy: 0.9062\n",
            "Batch number: 024, Training: Loss: 0.1326, Accuracy: 0.9062\n",
            "Batch number: 025, Training: Loss: 0.1851, Accuracy: 0.8750\n",
            "Batch number: 026, Training: Loss: 0.1414, Accuracy: 0.9375\n",
            "Batch number: 027, Training: Loss: 0.1541, Accuracy: 0.9375\n",
            "Batch number: 028, Training: Loss: 0.0694, Accuracy: 1.0000\n",
            "Batch number: 029, Training: Loss: 0.4636, Accuracy: 0.9062\n",
            "Batch number: 030, Training: Loss: 0.3487, Accuracy: 0.8750\n",
            "Batch number: 031, Training: Loss: 0.4167, Accuracy: 0.8750\n",
            "Batch number: 032, Training: Loss: 0.0433, Accuracy: 1.0000\n",
            "Batch number: 033, Training: Loss: 0.3386, Accuracy: 0.8750\n",
            "Batch number: 034, Training: Loss: 0.3014, Accuracy: 0.9062\n",
            "Batch number: 035, Training: Loss: 0.1794, Accuracy: 0.9688\n",
            "Batch number: 036, Training: Loss: 0.1290, Accuracy: 0.9375\n",
            "Batch number: 037, Training: Loss: 0.1455, Accuracy: 0.9375\n",
            "Batch number: 038, Training: Loss: 0.0506, Accuracy: 1.0000\n",
            "Batch number: 039, Training: Loss: 0.4464, Accuracy: 0.8750\n",
            "Batch number: 040, Training: Loss: 0.4125, Accuracy: 0.8750\n",
            "Batch number: 041, Training: Loss: 0.1386, Accuracy: 0.9062\n",
            "Validation Batch number: 000, Validation: Loss: 0.0580, Accuracy: 1.0000\n",
            "Validation Batch number: 001, Validation: Loss: 0.0113, Accuracy: 1.0000\n",
            "Validation Batch number: 002, Validation: Loss: 0.0172, Accuracy: 1.0000\n",
            "Validation Batch number: 003, Validation: Loss: 0.0069, Accuracy: 1.0000\n",
            "Validation Batch number: 004, Validation: Loss: 0.0213, Accuracy: 1.0000\n",
            "Validation Batch number: 005, Validation: Loss: 0.0135, Accuracy: 1.0000\n",
            "Validation Batch number: 006, Validation: Loss: 0.1039, Accuracy: 1.0000\n",
            "Validation Batch number: 007, Validation: Loss: 0.0009, Accuracy: 1.0000\n",
            "Validation Batch number: 008, Validation: Loss: 0.0105, Accuracy: 1.0000\n",
            "Validation Batch number: 009, Validation: Loss: 0.3929, Accuracy: 0.7500\n",
            "Validation Batch number: 010, Validation: Loss: 0.0010, Accuracy: 1.0000\n",
            "Validation Batch number: 011, Validation: Loss: 0.0051, Accuracy: 1.0000\n",
            "Validation Batch number: 012, Validation: Loss: 0.1614, Accuracy: 1.0000\n",
            "Validation Batch number: 013, Validation: Loss: 0.0010, Accuracy: 1.0000\n",
            "Validation Batch number: 014, Validation: Loss: 0.3870, Accuracy: 0.7500\n",
            "Validation Batch number: 015, Validation: Loss: 0.0395, Accuracy: 1.0000\n",
            "Validation Batch number: 016, Validation: Loss: 0.4579, Accuracy: 0.5000\n",
            "Validation Batch number: 017, Validation: Loss: 0.0072, Accuracy: 1.0000\n",
            "Validation Batch number: 018, Validation: Loss: 0.0004, Accuracy: 1.0000\n",
            "Validation Batch number: 019, Validation: Loss: 0.1981, Accuracy: 0.7500\n",
            "Validation Batch number: 020, Validation: Loss: 0.1020, Accuracy: 1.0000\n",
            "Validation Batch number: 021, Validation: Loss: 0.0054, Accuracy: 1.0000\n",
            "Validation Batch number: 022, Validation: Loss: 0.0001, Accuracy: 1.0000\n",
            "Validation Batch number: 023, Validation: Loss: 0.0180, Accuracy: 1.0000\n",
            "Validation Batch number: 024, Validation: Loss: 0.0305, Accuracy: 1.0000\n",
            "Validation Batch number: 025, Validation: Loss: 0.0056, Accuracy: 1.0000\n",
            "Validation Batch number: 026, Validation: Loss: 0.0073, Accuracy: 1.0000\n",
            "Validation Batch number: 027, Validation: Loss: 0.1999, Accuracy: 1.0000\n",
            "Validation Batch number: 028, Validation: Loss: 0.0181, Accuracy: 1.0000\n",
            "Validation Batch number: 029, Validation: Loss: 0.5273, Accuracy: 0.7500\n",
            "Validation Batch number: 030, Validation: Loss: 0.0347, Accuracy: 1.0000\n",
            "Validation Batch number: 031, Validation: Loss: 0.2824, Accuracy: 0.7500\n",
            "Validation Batch number: 032, Validation: Loss: 0.2860, Accuracy: 0.7500\n",
            "Validation Batch number: 033, Validation: Loss: 0.1172, Accuracy: 1.0000\n",
            "Validation Batch number: 034, Validation: Loss: 0.0013, Accuracy: 1.0000\n",
            "Validation Batch number: 035, Validation: Loss: 0.0013, Accuracy: 1.0000\n",
            "Validation Batch number: 036, Validation: Loss: 0.0142, Accuracy: 1.0000\n",
            "Epoch : 001, Training: Loss : 0.8890, Accuracy: 89.4074%\n",
            "Validation : Loss : 0.0946, Accuracy: 93.3333%, Time: 18.7813s\n",
            "model for epoch 1 saved\n",
            "Best accuracy achieved so far : 0.9333 on epoch 1\n"
          ],
          "name": "stdout"
        }
      ]
    },
    {
      "cell_type": "code",
      "metadata": {
        "id": "culacpOcgcUj",
        "colab_type": "code",
        "colab": {
          "base_uri": "https://localhost:8080/",
          "height": 549
        },
        "outputId": "b85d4c7d-99e9-4fff-fa3b-82d14aae8371"
      },
      "source": [
        "plotCost(history)"
      ],
      "execution_count": 14,
      "outputs": [
        {
          "output_type": "display_data",
          "data": {
            "image/png": "[encoded data removed]",
            "text/plain": [
              "<Figure size 432x288 with 1 Axes>"
            ]
          },
          "metadata": {
            "tags": [],
            "needs_background": "light"
          }
        },
        {
          "output_type": "display_data",
          "data": {
            "image/png": "[encoded data removed]",
            "text/plain": [
              "<Figure size 432x288 with 1 Axes>"
            ]
          },
          "metadata": {
            "tags": [],
            "needs_background": "light"
          }
        }
      ]
    },
    {
      "cell_type": "markdown",
      "metadata": {
        "id": "lmqA9osy49ac",
        "colab_type": "text"
      },
      "source": [
        "Select the best model (i.e. the weights file saved on the max epoch) to test."
      ]
    },
    {
      "cell_type": "code",
      "metadata": {
        "id": "sEDTZ_VmkEK6",
        "colab_type": "code",
        "colab": {}
      },
      "source": [
        "saved_model = torch.load('src_model_1.pt')"
      ],
      "execution_count": 0,
      "outputs": []
    },
    {
      "cell_type": "code",
      "metadata": {
        "id": "39gAloATgHQl",
        "colab_type": "code",
        "colab": {
          "base_uri": "https://localhost:8080/",
          "height": 1000
        },
        "outputId": "c7d017bf-d9bc-48ca-bee7-bfeb87b48067"
      },
      "source": [
        "computeTestSetAccuracy(saved_model, lossFunc)"
      ],
      "execution_count": 13,
      "outputs": [
        {
          "output_type": "stream",
          "text": [
            "Test Batch number: 000, Test: Loss: 0.0002, Accuracy: 1.0000\n",
            "Test Batch number: 001, Test: Loss: 0.0000, Accuracy: 1.0000\n",
            "Test Batch number: 002, Test: Loss: 0.0155, Accuracy: 1.0000\n",
            "Test Batch number: 003, Test: Loss: 0.0000, Accuracy: 1.0000\n",
            "Test Batch number: 004, Test: Loss: 0.0035, Accuracy: 1.0000\n",
            "Test Batch number: 005, Test: Loss: 0.0000, Accuracy: 1.0000\n",
            "Test Batch number: 006, Test: Loss: 0.2503, Accuracy: 1.0000\n",
            "Test Batch number: 007, Test: Loss: 0.0000, Accuracy: 1.0000\n",
            "Test Batch number: 008, Test: Loss: 0.0000, Accuracy: 1.0000\n",
            "Test Batch number: 009, Test: Loss: 0.0569, Accuracy: 1.0000\n",
            "Test Batch number: 010, Test: Loss: 0.0000, Accuracy: 1.0000\n",
            "Test Batch number: 011, Test: Loss: 0.0013, Accuracy: 1.0000\n",
            "Test Batch number: 012, Test: Loss: 0.0000, Accuracy: 1.0000\n",
            "Test Batch number: 013, Test: Loss: 0.0000, Accuracy: 1.0000\n",
            "Test Batch number: 014, Test: Loss: 0.5569, Accuracy: 1.0000\n",
            "Test Batch number: 015, Test: Loss: 0.0000, Accuracy: 1.0000\n",
            "Test Batch number: 016, Test: Loss: 0.0000, Accuracy: 1.0000\n",
            "Test Batch number: 017, Test: Loss: 0.0005, Accuracy: 1.0000\n",
            "Test Batch number: 018, Test: Loss: 0.1652, Accuracy: 1.0000\n",
            "Test Batch number: 019, Test: Loss: 0.0002, Accuracy: 1.0000\n",
            "Test Batch number: 020, Test: Loss: 0.0000, Accuracy: 1.0000\n",
            "Test Batch number: 021, Test: Loss: 0.0002, Accuracy: 1.0000\n",
            "Test Batch number: 022, Test: Loss: 0.0035, Accuracy: 1.0000\n",
            "Test Batch number: 023, Test: Loss: 0.0000, Accuracy: 1.0000\n",
            "Test Batch number: 024, Test: Loss: 0.0065, Accuracy: 1.0000\n",
            "Test Batch number: 025, Test: Loss: 0.0766, Accuracy: 1.0000\n",
            "Test Batch number: 026, Test: Loss: 0.0028, Accuracy: 1.0000\n",
            "Test Batch number: 027, Test: Loss: 0.3821, Accuracy: 1.0000\n",
            "Test Batch number: 028, Test: Loss: 0.0756, Accuracy: 1.0000\n",
            "Test Batch number: 029, Test: Loss: 0.0000, Accuracy: 1.0000\n",
            "Test Batch number: 030, Test: Loss: 0.0012, Accuracy: 1.0000\n",
            "Test Batch number: 031, Test: Loss: 0.0000, Accuracy: 1.0000\n",
            "Test Batch number: 032, Test: Loss: 0.0069, Accuracy: 1.0000\n",
            "Test Batch number: 033, Test: Loss: 0.3370, Accuracy: 1.0000\n",
            "Test Batch number: 034, Test: Loss: 0.0015, Accuracy: 1.0000\n",
            "Test Batch number: 035, Test: Loss: 0.0000, Accuracy: 1.0000\n",
            "Test Batch number: 036, Test: Loss: 0.0001, Accuracy: 1.0000\n",
            "Test Batch number: 037, Test: Loss: 0.0000, Accuracy: 1.0000\n",
            "Test Batch number: 038, Test: Loss: 0.0189, Accuracy: 1.0000\n",
            "Test Batch number: 039, Test: Loss: 0.0000, Accuracy: 1.0000\n",
            "Test Batch number: 040, Test: Loss: 0.0000, Accuracy: 1.0000\n",
            "Test Batch number: 041, Test: Loss: 0.3586, Accuracy: 1.0000\n",
            "Test Batch number: 042, Test: Loss: 0.0000, Accuracy: 1.0000\n",
            "Test Batch number: 043, Test: Loss: 0.0000, Accuracy: 1.0000\n",
            "Test Batch number: 044, Test: Loss: 0.0184, Accuracy: 1.0000\n",
            "Test Batch number: 045, Test: Loss: 0.0010, Accuracy: 1.0000\n",
            "Test Batch number: 046, Test: Loss: 0.0002, Accuracy: 1.0000\n",
            "Test Batch number: 047, Test: Loss: 0.0003, Accuracy: 1.0000\n",
            "Test Batch number: 048, Test: Loss: 0.0000, Accuracy: 1.0000\n",
            "Test Batch number: 049, Test: Loss: 0.0001, Accuracy: 1.0000\n",
            "Test Batch number: 050, Test: Loss: 0.0000, Accuracy: 1.0000\n",
            "Test Batch number: 051, Test: Loss: 0.0229, Accuracy: 1.0000\n",
            "Test Batch number: 052, Test: Loss: 0.0012, Accuracy: 1.0000\n",
            "Test Batch number: 053, Test: Loss: 0.0356, Accuracy: 1.0000\n",
            "Test Batch number: 054, Test: Loss: 0.0002, Accuracy: 1.0000\n",
            "Test Batch number: 055, Test: Loss: 0.1281, Accuracy: 1.0000\n",
            "Test Batch number: 056, Test: Loss: 0.0110, Accuracy: 1.0000\n",
            "Test Batch number: 057, Test: Loss: 0.0000, Accuracy: 1.0000\n",
            "Test Batch number: 058, Test: Loss: 0.0049, Accuracy: 1.0000\n",
            "Test Batch number: 059, Test: Loss: 0.0000, Accuracy: 1.0000\n",
            "Test Batch number: 060, Test: Loss: 0.0036, Accuracy: 1.0000\n",
            "Test Batch number: 061, Test: Loss: 0.0312, Accuracy: 1.0000\n",
            "Test Batch number: 062, Test: Loss: 0.0000, Accuracy: 1.0000\n",
            "Test Batch number: 063, Test: Loss: 0.0000, Accuracy: 1.0000\n",
            "Test Batch number: 064, Test: Loss: 0.0000, Accuracy: 1.0000\n",
            "Test Batch number: 065, Test: Loss: 0.0000, Accuracy: 1.0000\n",
            "Test Batch number: 066, Test: Loss: 0.0000, Accuracy: 1.0000\n",
            "Test Batch number: 067, Test: Loss: 0.0000, Accuracy: 1.0000\n",
            "Test Batch number: 068, Test: Loss: 0.0000, Accuracy: 1.0000\n",
            "Test Batch number: 069, Test: Loss: 0.4173, Accuracy: 1.0000\n",
            "Test Batch number: 070, Test: Loss: 0.0000, Accuracy: 1.0000\n",
            "Test Batch number: 071, Test: Loss: 0.0004, Accuracy: 1.0000\n",
            "Test Batch number: 072, Test: Loss: 0.0000, Accuracy: 1.0000\n",
            "Test Batch number: 073, Test: Loss: 0.0005, Accuracy: 1.0000\n",
            "Test Batch number: 074, Test: Loss: 0.0009, Accuracy: 1.0000\n",
            "Test Batch number: 075, Test: Loss: 0.0000, Accuracy: 1.0000\n",
            "Test Batch number: 076, Test: Loss: 0.1644, Accuracy: 1.0000\n",
            "Test Batch number: 077, Test: Loss: 0.0000, Accuracy: 1.0000\n",
            "Test Batch number: 078, Test: Loss: 0.1252, Accuracy: 1.0000\n",
            "Test Batch number: 079, Test: Loss: 0.0005, Accuracy: 1.0000\n",
            "Test Batch number: 080, Test: Loss: 0.0000, Accuracy: 1.0000\n",
            "Test Batch number: 081, Test: Loss: 0.2907, Accuracy: 1.0000\n",
            "Test Batch number: 082, Test: Loss: 0.0000, Accuracy: 1.0000\n",
            "Test Batch number: 083, Test: Loss: 0.0000, Accuracy: 1.0000\n",
            "Test Batch number: 084, Test: Loss: 0.0000, Accuracy: 1.0000\n",
            "Test Batch number: 085, Test: Loss: 0.4695, Accuracy: 1.0000\n",
            "Test Batch number: 086, Test: Loss: 0.0000, Accuracy: 1.0000\n",
            "Test Batch number: 087, Test: Loss: 0.0012, Accuracy: 1.0000\n",
            "Test Batch number: 088, Test: Loss: 0.0000, Accuracy: 1.0000\n",
            "Test Batch number: 089, Test: Loss: 0.0000, Accuracy: 1.0000\n",
            "Test Batch number: 090, Test: Loss: 0.0049, Accuracy: 1.0000\n",
            "Test Batch number: 091, Test: Loss: 0.0000, Accuracy: 1.0000\n",
            "Test Batch number: 092, Test: Loss: 0.0000, Accuracy: 1.0000\n",
            "Test Batch number: 093, Test: Loss: 0.0000, Accuracy: 1.0000\n",
            "Test Batch number: 094, Test: Loss: 0.0000, Accuracy: 1.0000\n",
            "Test Batch number: 095, Test: Loss: 0.0000, Accuracy: 1.0000\n",
            "Test Batch number: 096, Test: Loss: 0.0000, Accuracy: 1.0000\n",
            "Test Batch number: 097, Test: Loss: 0.0000, Accuracy: 1.0000\n",
            "Test Batch number: 098, Test: Loss: 0.0000, Accuracy: 1.0000\n",
            "Test Batch number: 099, Test: Loss: 0.0000, Accuracy: 1.0000\n",
            "Test Batch number: 100, Test: Loss: 0.0009, Accuracy: 1.0000\n",
            "Test Batch number: 101, Test: Loss: 0.0225, Accuracy: 1.0000\n",
            "Test Batch number: 102, Test: Loss: 0.0000, Accuracy: 1.0000\n",
            "Test Batch number: 103, Test: Loss: 0.0416, Accuracy: 1.0000\n",
            "Test Batch number: 104, Test: Loss: 0.1483, Accuracy: 1.0000\n",
            "Test Batch number: 105, Test: Loss: 0.0008, Accuracy: 1.0000\n",
            "Test Batch number: 106, Test: Loss: 0.0342, Accuracy: 1.0000\n",
            "Test Batch number: 107, Test: Loss: 0.0010, Accuracy: 1.0000\n",
            "Test Batch number: 108, Test: Loss: 0.0000, Accuracy: 1.0000\n",
            "Test Batch number: 109, Test: Loss: 0.0004, Accuracy: 1.0000\n",
            "Test Batch number: 110, Test: Loss: 0.0093, Accuracy: 1.0000\n",
            "Test Batch number: 111, Test: Loss: 0.0004, Accuracy: 1.0000\n",
            "Test Batch number: 112, Test: Loss: 0.0000, Accuracy: 1.0000\n",
            "Test Batch number: 113, Test: Loss: 0.0000, Accuracy: 1.0000\n",
            "Test Batch number: 114, Test: Loss: 0.0156, Accuracy: 1.0000\n",
            "Test Batch number: 115, Test: Loss: 0.0016, Accuracy: 1.0000\n",
            "Test Batch number: 116, Test: Loss: 0.0001, Accuracy: 1.0000\n",
            "Test Batch number: 117, Test: Loss: 0.6926, Accuracy: 1.0000\n",
            "Test Batch number: 118, Test: Loss: 0.0181, Accuracy: 1.0000\n",
            "Test Batch number: 119, Test: Loss: 0.0030, Accuracy: 1.0000\n",
            "Test accuracy : 1.0\n"
          ],
          "name": "stdout"
        }
      ]
    }
  ]
}